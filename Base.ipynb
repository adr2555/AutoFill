{
 "metadata": {
  "language_info": {
   "codemirror_mode": {
    "name": "ipython",
    "version": 3
   },
   "file_extension": ".py",
   "mimetype": "text/x-python",
   "name": "python",
   "nbconvert_exporter": "python",
   "pygments_lexer": "ipython3",
   "version": "3.7.4-final"
  },
  "orig_nbformat": 2,
  "kernelspec": {
   "name": "python_defaultSpec_1599475496755",
   "display_name": "Python 3.7.4 64-bit ('adria': virtualenv)"
  }
 },
 "nbformat": 4,
 "nbformat_minor": 2,
 "cells": [
  {
   "cell_type": "code",
   "execution_count": 17,
   "metadata": {
    "tags": []
   },
   "outputs": [
    {
     "output_type": "stream",
     "name": "stdout",
     "text": "{'Name': 'entry.2005620554', 'Email': 'entry.1045781291', 'Address': 'entry.1065046570', 'Phone number': 'entry.1166974658', 'Comments': 'entry.839337160'}\nForm Submitted.\nForm Submitted.\nForm Submitted.\nForm Submitted.\nForm Submitted.\n"
    }
   ],
   "source": [
    "#Import\n",
    "import pandas as pd\n",
    "import requests\n",
    "\n",
    "#Base\n",
    "baseform={\n",
    "\"Name\":\"entry.2005620554\",\n",
    "\"Email\":\"entry.1045781291\",\n",
    "\"Address\":\"entry.1065046570\",\n",
    "\"Phone number\":\"entry.1166974658\",\n",
    "\"Comments\":\"entry.839337160\",\n",
    "}\n",
    "\n",
    "Key= '<input type=\"hidden\" name=\"y\" value=\"x\">'\n",
    "\n",
    "#Read Excel\n",
    "df = \"Test.xlsx\"\n",
    "new_dict = pd.read_excel(df, index_col=0).to_dict()\n",
    "n_dict = new_dict[\"Input\"] \n",
    "print(baseform)\n",
    "\n",
    "#Create Input for Elements\n",
    "key1= {}\n",
    "key3 = {}\n",
    "for i in baseform:\n",
    "     if baseform[i] not in key3.keys():\n",
    "        key3[baseform[i]] = str(n_dict[i])   \n",
    "\n",
    "#values_list = []\n",
    "#values_list.append(key3)\n",
    "#print(values_list)\n",
    "for d in key3:\n",
    "        requests.post(\"https://docs.google.com/forms/d/e/1FAIpQLSeX2cPEYDkJe3OD1SJYjY5kpFjU4HadTclx4bOvsfptqu9f2Q/formResponse\", data=d)\n",
    "        print(\"Form Submitted.\")\n",
    "        #time.sleep(15)\n",
    "        "
   ]
  }
 ]
}